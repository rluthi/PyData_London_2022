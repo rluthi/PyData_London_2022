{
 "cells": [
  {
   "cell_type": "markdown",
   "id": "d4e7e7cf-926d-40bc-abc0-804ec1cb6da0",
   "metadata": {
    "slideshow": {
     "slide_type": "notes"
    },
    "tags": []
   },
   "source": [
    "**1st slide**"
   ]
  },
  {
   "cell_type": "markdown",
   "id": "a8143a09-5c7e-46aa-812f-c595bf2f2ae0",
   "metadata": {
    "slideshow": {
     "slide_type": "slide"
    },
    "tags": []
   },
   "source": [
    "## Managing scientific python computing environments \n",
    "#### By Raphael Luthi \n",
    "##### Head of data science at Groupe Mutuel"
   ]
  },
  {
   "cell_type": "markdown",
   "id": "e14631fe-2093-4eea-a81f-0a12d46a7215",
   "metadata": {
    "slideshow": {
     "slide_type": "notes"
    },
    "tags": []
   },
   "source": [
    "**slide 2**"
   ]
  },
  {
   "cell_type": "markdown",
   "id": "6c86855b-b0c8-4712-a585-e294655348c6",
   "metadata": {
    "slideshow": {
     "slide_type": "slide"
    },
    "tags": []
   },
   "source": [
    "### **How much time** have you spent **worrying** about python environments? "
   ]
  },
  {
   "cell_type": "markdown",
   "id": "02316b98-6a4e-4351-8323-466ee101995c",
   "metadata": {
    "slideshow": {
     "slide_type": "subslide"
    },
    "tags": []
   },
   "source": [
    "**TOO MUCH !**"
   ]
  },
  {
   "cell_type": "markdown",
   "id": "e029034f-cdfc-461c-be38-2b8e866ca294",
   "metadata": {
    "slideshow": {
     "slide_type": "fragment"
    },
    "tags": []
   },
   "source": [
    "I'll take you through **my pain-free workflow** to help you finally **tame these bloody environments**"
   ]
  },
  {
   "cell_type": "markdown",
   "id": "469129f4-1cff-4300-81c5-277f891f11f7",
   "metadata": {
    "slideshow": {
     "slide_type": "notes"
    },
    "tags": []
   },
   "source": [
    "**slide 3**"
   ]
  },
  {
   "cell_type": "markdown",
   "id": "bc5ca158-960d-42b6-8caf-715e0578b55e",
   "metadata": {
    "slideshow": {
     "slide_type": "slide"
    },
    "tags": []
   },
   "source": [
    "### Let's start with some definitions: "
   ]
  },
  {
   "cell_type": "markdown",
   "id": "fd474ca7-e29c-4275-abc4-e0baffe3a26f",
   "metadata": {
    "slideshow": {
     "slide_type": "fragment"
    },
    "tags": []
   },
   "source": [
    "- **virtualenv**:  an environment manager for python\n",
    "- **pip**: the most popular package manager for python\n",
    "- **PyPI**: a repository of python packages "
   ]
  },
  {
   "cell_type": "markdown",
   "id": "73e47de8-a2ad-49ec-bc19-65852aab37f3",
   "metadata": {
    "slideshow": {
     "slide_type": "fragment"
    },
    "tags": []
   },
   "source": [
    "- **conda**: an open-source package and environment manager that runs on Windows, macOS, and Linux\n",
    "- **Anaconda repository**: 8000 open-source packages compiled for all major operating systems\n",
    "- **Anaconda company**: the company that maintains conda and owns the Anaconda repository\n",
    "- **miniconda**: a minimal installer of conda"
   ]
  },
  {
   "cell_type": "markdown",
   "id": "2a6cc68a-3791-46c6-b1bc-b73802ce634f",
   "metadata": {
    "slideshow": {
     "slide_type": "fragment"
    },
    "tags": []
   },
   "source": [
    "- **conda-forge**: a community-led package repository for the conda package manager"
   ]
  },
  {
   "cell_type": "markdown",
   "id": "b7795445-a296-4424-a16a-cf9499dbcbbf",
   "metadata": {
    "slideshow": {
     "slide_type": "fragment"
    },
    "tags": []
   },
   "source": [
    "- **mamba**: a more efficient reimplementation of the conda package manager"
   ]
  },
  {
   "cell_type": "markdown",
   "id": "73495c08-2cfe-467c-8215-730709e30c6b",
   "metadata": {
    "slideshow": {
     "slide_type": "notes"
    },
    "tags": []
   },
   "source": [
    "**slide 4**"
   ]
  },
  {
   "cell_type": "markdown",
   "id": "14480c49-3094-439b-8678-95001c09c74a",
   "metadata": {
    "slideshow": {
     "slide_type": "slide"
    },
    "tags": []
   },
   "source": [
    "### pip vs. Anaconda\n",
    "*The truth comes from the mouth of Google's search history:*\n",
    "\n",
    "<img src=\"images/im4.png\" width=\"800\"/>"
   ]
  },
  {
   "cell_type": "markdown",
   "id": "e43dcdfe-009f-4f5b-bd07-8074b8ee29f2",
   "metadata": {
    "slideshow": {
     "slide_type": "notes"
    },
    "tags": []
   },
   "source": [
    "- *Anaconda* gets searched a little less than *pip* (frequency of the search term is not a perfect metric but gives an idea)\n",
    "- But over time, they both go up and down together \n",
    "- They both found their niche and are good at what they specialise in."
   ]
  },
  {
   "cell_type": "markdown",
   "id": "0afbc3db-c417-4cf0-96a6-4f97b3462d83",
   "metadata": {
    "slideshow": {
     "slide_type": "fragment"
    },
    "tags": []
   },
   "source": [
    "**pip and Anaconda are not in competition!**"
   ]
  },
  {
   "cell_type": "markdown",
   "id": "afd85d47-fc02-404e-9170-cf5d4e2f4876",
   "metadata": {
    "slideshow": {
     "slide_type": "notes"
    },
    "tags": []
   },
   "source": [
    "**Slide 5**"
   ]
  },
  {
   "cell_type": "markdown",
   "id": "fc4acce8-30c4-4fa6-9b15-4de9d8008879",
   "metadata": {
    "slideshow": {
     "slide_type": "slide"
    },
    "tags": []
   },
   "source": [
    "### How do you choose? "
   ]
  },
  {
   "cell_type": "markdown",
   "id": "e4191bc8-7987-4ad5-92c8-f062e543e4c0",
   "metadata": {
    "slideshow": {
     "slide_type": "subslide"
    },
    "tags": []
   },
   "source": [
    "**pip/virtualenv** is:\n",
    "- (+) de facto standard for packaging python code\n",
    "- (+) lightweight\n",
    "\n",
    "BUT:\n",
    "- (-) reproducibility can be hard to achieve, especially cross-platform\n",
    "- (-) no dependency graph optimisation"
   ]
  },
  {
   "cell_type": "markdown",
   "id": "1242e469-9cd5-4391-8c7e-830a6c5bee0d",
   "metadata": {
    "slideshow": {
     "slide_type": "subslide"
    },
    "tags": []
   },
   "source": [
    "**conda** is:\n",
    "- (+) very popular among the scientific computing community\n",
    "- (+) can optimise complex dependency graphs and make reproducable cross-platform environments \n",
    "- (+) handles multiple python versions and non-python binaries(numpy, scipy, ...)\n",
    "\n",
    "BUT:\n",
    "- (-) Anaconda (or miniconda) must be pre-installed\n",
    "- (-) complex dependency graph can be extremely slow to solve"
   ]
  },
  {
   "cell_type": "markdown",
   "id": "b5fde8a7-39f1-4f9b-910c-eb71900cf7c8",
   "metadata": {
    "slideshow": {
     "slide_type": "subslide"
    },
    "tags": []
   },
   "source": [
    "**mamba** is:\n",
    "- (+) like conda but fast!\n",
    "\n",
    "BUT:\n",
    "- (-) not widely adopted"
   ]
  },
  {
   "cell_type": "markdown",
   "id": "0f5dc3d8-c161-479c-bbc6-23550489f8ca",
   "metadata": {
    "slideshow": {
     "slide_type": "subslide"
    },
    "tags": []
   },
   "source": [
    "**Good news: Today pip & conda & mamba work GREAT together!**"
   ]
  },
  {
   "cell_type": "markdown",
   "id": "d2144659-2d11-4e46-8c33-bd8a816d1a30",
   "metadata": {
    "slideshow": {
     "slide_type": "notes"
    },
    "tags": []
   },
   "source": [
    "**Slide 6**"
   ]
  },
  {
   "cell_type": "markdown",
   "id": "17b1aab8-9f8e-4c02-8e7b-e7feb59f7930",
   "metadata": {
    "slideshow": {
     "slide_type": "slide"
    },
    "tags": []
   },
   "source": [
    "### My pain-free workflow"
   ]
  },
  {
   "cell_type": "markdown",
   "id": "529289a4-43bd-4f5e-9da2-dbf726da7b0b",
   "metadata": {
    "jp-MarkdownHeadingCollapsed": true,
    "slideshow": {
     "slide_type": "subslide"
    },
    "tags": []
   },
   "source": [
    "#### 1. Setting things up\n",
    "\n",
    "1. If missing, install [Miniconda](https://docs.conda.io/en/latest/miniconda.html)\n",
    "1. Always make sure conda is up to date: `conda update -n base conda`\n",
    "1. Speed things up with the experimental [libmamba](https://www.anaconda.com/blog/a-faster-conda-for-a-growing-community) solver:\n",
    "  -  `conda install -n base conda-libmamba-solver`"
   ]
  },
  {
   "cell_type": "markdown",
   "id": "76103daa-c441-437e-b589-3d79012a3954",
   "metadata": {
    "slideshow": {
     "slide_type": "subslide"
    },
    "tags": []
   },
   "source": [
    "#### 2. Creating a new conda environment \n",
    "**Create** a new conda environment with all the projet's dependencies:\n",
    "\n",
    "```bash\n",
    "conda create -n painless_env -c conda-forge --strict-channel-priority -v \\\n",
    "    --experimental-solver libmamba \\\n",
    "    pandas pandera pandas-profiling sweetviz lux-api \\\n",
    "    black flake8 pre-commit nbQA jupyterlab \\\n",
    "    pandas-vet flake8-builtins bandit flake8-markdown \\\n",
    "    pep8-naming flake8-bugbear flake8-variables-names isort\n",
    "```\n",
    "\n",
    "**Activate**:\n",
    "```bash\n",
    "conda activate painless_env\n",
    "```"
   ]
  },
  {
   "cell_type": "markdown",
   "id": "2ba6dafe-1014-42ea-9dfb-b7334baf5f9d",
   "metadata": {
    "slideshow": {
     "slide_type": "fragment"
    },
    "tags": []
   },
   "source": [
    "With `--experimental-solver libmamba`, the dependency graph is solved **much faster!**\n",
    "\n",
    "More info: https://www.anaconda.com/blog/a-faster-conda-for-a-growing-community"
   ]
  },
  {
   "cell_type": "markdown",
   "id": "6f0e1ca7-d708-4d6a-80d1-2830613a3762",
   "metadata": {
    "slideshow": {
     "slide_type": "subslide"
    },
    "tags": []
   },
   "source": [
    "#### 3. Installing additional libraries\n",
    "**Additional conda libraries**:   \n",
    "```bash\n",
    "conda install -c conda-forge -n painless_env tabulate\n",
    "```"
   ]
  },
  {
   "cell_type": "markdown",
   "id": "5f03005e-6fc9-43e9-9368-34b952ca692f",
   "metadata": {
    "slideshow": {
     "slide_type": "fragment"
    },
    "tags": []
   },
   "source": [
    "**Additional pip libraries**:   \n",
    "```bash\n",
    "python -m pip install dice\n",
    "```"
   ]
  },
  {
   "cell_type": "markdown",
   "id": "b8d31b92-bab3-46f0-b837-52183cc7d8b2",
   "metadata": {
    "slideshow": {
     "slide_type": "fragment"
    },
    "tags": []
   },
   "source": [
    "**Local package in editable mode:**:   \n",
    "```bash\n",
    "python -m pip install -e .\n",
    "```"
   ]
  },
  {
   "cell_type": "markdown",
   "id": "c729711b-ee60-40c6-8229-93bd1cbf042d",
   "metadata": {
    "slideshow": {
     "slide_type": "subslide"
    },
    "tags": []
   },
   "source": [
    "#### 4. Exporting and reproducing the environment\n",
    "**Exporting** the current environment configurations : \n",
    "```bash\n",
    "conda env export | grep -v \"^prefix: \" > environment.yml\n",
    "```"
   ]
  },
  {
   "cell_type": "markdown",
   "id": "9044531d-60ff-4578-bb89-8040b6505070",
   "metadata": {
    "slideshow": {
     "slide_type": "fragment"
    },
    "tags": []
   },
   "source": [
    "**Deterministic recreation** of the environment:\n",
    "```bash\n",
    "conda env create -f environment.yml\n",
    "```"
   ]
  },
  {
   "cell_type": "markdown",
   "id": "acf36823-de75-44a4-afde-668573d6eb39",
   "metadata": {},
   "source": [
    "**Tips for reproducibility:**: \n",
    "- The yaml file might become massive, but that's okay!\n",
    "- The yaml file should be versioned (`git add environment.yml`) and distributed with the project so that  all users and developers work with the same environment."
   ]
  },
  {
   "cell_type": "markdown",
   "id": "80cc50ba-67a8-4627-a72a-76c96576ddf9",
   "metadata": {
    "slideshow": {
     "slide_type": "notes"
    },
    "tags": []
   },
   "source": [
    "**Slide 7**"
   ]
  },
  {
   "cell_type": "markdown",
   "id": "38c2a686-0c46-43f6-b1a4-41034559891d",
   "metadata": {
    "slideshow": {
     "slide_type": "slide"
    },
    "tags": []
   },
   "source": [
    "### Change in Anaconda terms of service"
   ]
  },
  {
   "cell_type": "markdown",
   "id": "d4398efb-4040-401b-889b-45a973f902f1",
   "metadata": {
    "slideshow": {
     "slide_type": "fragment"
    },
    "tags": []
   },
   "source": [
    "**Be aware**: since March 2022, you need an enterprise licence is required for commercial usage of Anaconda's services \n",
    "\n",
    "*Non commercial* usage is defined as:\n",
    "- individual hobbyists\n",
    "- students\n",
    "- universities\n",
    "- non-profit organisations\n",
    "- businesses with less than 200 employees\n",
    "\n",
    "More info:\n",
    "- [Anaconda Commercial Edition FAQ](https://www.anaconda.com/blog/anaconda-commercial-edition-faq)\n",
    "- [Anaconda pricing](https://www.anaconda.com/pricing)\n",
    "- [Anaconda terms of service](https://www.anaconda.com/terms-of-service)"
   ]
  },
  {
   "cell_type": "markdown",
   "id": "23ab5ca8-fb3e-4bdb-b932-606bb39a05cf",
   "metadata": {
    "slideshow": {
     "slide_type": "notes"
    },
    "tags": []
   },
   "source": [
    "**Slide 8**"
   ]
  },
  {
   "cell_type": "markdown",
   "id": "fb8730af-af96-46d9-9133-a742021da3ca",
   "metadata": {
    "slideshow": {
     "slide_type": "slide"
    },
    "tags": []
   },
   "source": [
    "# Thanks for listening! \n",
    "\n",
    "Here is the [link](https://github.com/rluthi/PyData_London_2022/blob/master/taming_python_environments.md) to this presentation\n",
    "\n",
    "Happy to connect: \n",
    "* github.com/rluthi\n",
    "* linkedin.com/in/raphaelluthi"
   ]
  },
  {
   "cell_type": "markdown",
   "id": "67864f9f-3105-4e37-b845-9fa2ea619d95",
   "metadata": {
    "slideshow": {
     "slide_type": "fragment"
    },
    "tags": []
   },
   "source": [
    "SHOUTOUT to [calmcode.io](https://calmcode.io) (my favourite resource for any advanced python/data stuff!)"
   ]
  },
  {
   "cell_type": "code",
   "execution_count": 17,
   "id": "2e40d831-0782-4395-93a2-4b31d00217b1",
   "metadata": {
    "slideshow": {
     "slide_type": "notes"
    },
    "tags": []
   },
   "outputs": [],
   "source": [
    "# TODO: try converting to MD\n",
    "# TODO: push to github\n",
    "# TODO: link to the pres. in the pres."
   ]
  },
  {
   "cell_type": "code",
   "execution_count": null,
   "id": "d54a2f75-5581-47fa-ad61-79df01b34ff4",
   "metadata": {
    "slideshow": {
     "slide_type": "notes"
    },
    "tags": []
   },
   "outputs": [],
   "source": []
  }
 ],
 "metadata": {
  "kernelspec": {
   "display_name": "Python 3 (ipykernel)",
   "language": "python",
   "name": "python3"
  },
  "language_info": {
   "codemirror_mode": {
    "name": "ipython",
    "version": 3
   },
   "file_extension": ".py",
   "mimetype": "text/x-python",
   "name": "python",
   "nbconvert_exporter": "python",
   "pygments_lexer": "ipython3",
   "version": "3.9.7"
  }
 },
 "nbformat": 4,
 "nbformat_minor": 5
}
